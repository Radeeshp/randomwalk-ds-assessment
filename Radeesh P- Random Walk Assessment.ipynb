{
 "cells": [
  {
   "cell_type": "markdown",
   "id": "471895d4",
   "metadata": {},
   "source": [
    "# Random Walk’s Data Science Assessment\n",
    " "
   ]
  },
  {
   "cell_type": "markdown",
   "id": "9a834011",
   "metadata": {},
   "source": [
    "##### We use the install and import the nessary packages"
   ]
  },
  {
   "cell_type": "code",
   "execution_count": 1,
   "id": "879591e5",
   "metadata": {},
   "outputs": [],
   "source": [
    "import pandas as pd\n",
    "import matplotlib.pyplot as plt\n"
   ]
  },
  {
   "cell_type": "markdown",
   "id": "417e0102",
   "metadata": {},
   "source": [
    "##### We first see a preview of the given dataset"
   ]
  },
  {
   "cell_type": "code",
   "execution_count": 2,
   "id": "3a6dd5c4",
   "metadata": {
    "scrolled": false
   },
   "outputs": [
    {
     "name": "stdout",
     "output_type": "stream",
     "text": [
      "     book_id  goodreads_book_id  best_book_id   work_id  books_count  \\\n",
      "0         15              48855         48855   3532896          710   \n",
      "1         40              19501         19501   3352398          185   \n",
      "2         81               7445          7445   2944133           92   \n",
      "3         82               1845          1845   3284484          108   \n",
      "4         87               1617          1617    265616          109   \n",
      "..       ...                ...           ...       ...          ...   \n",
      "394     9788           23399022      23399022  42955411           21   \n",
      "395     9847           20685373      20685373  40000267           18   \n",
      "396     9887             503248        503248    491309           21   \n",
      "397     9960             127970        127970   1066433           26   \n",
      "398     9968             554674        554674    548132           34   \n",
      "\n",
      "           isbn        isbn13  \\\n",
      "0     553296981  9.780553e+12   \n",
      "1     143038419  9.780143e+12   \n",
      "2    074324754X  9.780743e+12   \n",
      "3     385486804  9.780385e+12   \n",
      "4     374500010  9.780375e+12   \n",
      "..          ...           ...   \n",
      "394   525427651  9.780525e+12   \n",
      "395   307720659  9.780308e+12   \n",
      "396   307381269  9.780307e+12   \n",
      "397   739416383  9.780739e+12   \n",
      "398    60005777  9.780060e+12   \n",
      "\n",
      "                                               authors  \\\n",
      "0    Anne Frank, Eleanor Roosevelt, B.M. Mooyaart-D...   \n",
      "1                                    Elizabeth Gilbert   \n",
      "2                                      Jeannette Walls   \n",
      "3                                         Jon Krakauer   \n",
      "4                           Elie Wiesel, Marion Wiesel   \n",
      "..                                                 ...   \n",
      "394  Amanda Berry, Gina DeJesus, Mary Jordan, Kevin...   \n",
      "395                                           Suki Kim   \n",
      "396                      Howard Dully, Charles Fleming   \n",
      "397                                         Terry Ryan   \n",
      "398                            Maria Augusta von Trapp   \n",
      "\n",
      "     original_publication_year  \\\n",
      "0                       1947.0   \n",
      "1                       2006.0   \n",
      "2                       2005.0   \n",
      "3                       1996.0   \n",
      "4                       1958.0   \n",
      "..                         ...   \n",
      "394                     2015.0   \n",
      "395                     2014.0   \n",
      "396                     2007.0   \n",
      "397                     2001.0   \n",
      "398                     1949.0   \n",
      "\n",
      "                                        original_title  ...  \\\n",
      "0    Het Achterhuis: Dagboekbrieven 14 juni 1942 - ...  ...   \n",
      "1    Eat, pray, love: one woman's search for everyt...  ...   \n",
      "2                                     The Glass Castle  ...   \n",
      "3                                        Into the Wild  ...   \n",
      "4                              Un di Velt Hot Geshvign  ...   \n",
      "..                                                 ...  ...   \n",
      "394                                               Hope  ...   \n",
      "395  Without You, There Is No Us: My Time with the ...  ...   \n",
      "396                                        My Lobotomy  ...   \n",
      "397  The Prize Winner of Defiance, Ohio: How My Mot...  ...   \n",
      "398              The Story of the Trapp Family Singers  ...   \n",
      "\n",
      "    work_ratings_count work_text_reviews_count  ratings_1  ratings_2  \\\n",
      "0              2024493                   20825      45225      91270   \n",
      "1              1206597                   49714     100373     149549   \n",
      "2               637866                   40777       7901      18922   \n",
      "3               665377                   17299      19229      35567   \n",
      "4               707879                   22001       7761      18539   \n",
      "..                 ...                     ...        ...        ...   \n",
      "394               9102                     927        101        195   \n",
      "395              10002                    1426        145        523   \n",
      "396               9615                    1247        142        788   \n",
      "397              11151                    1849        118        498   \n",
      "398              10234                     599        297        518   \n",
      "\n",
      "     ratings_3  ratings_4  ratings_5  \\\n",
      "0       355756     656870     875372   \n",
      "1       310212     332191     314272   \n",
      "2        85191     227750     298102   \n",
      "3       135199     248287     227095   \n",
      "4        90575     230227     360777   \n",
      "..         ...        ...        ...   \n",
      "394       1180       3301       4325   \n",
      "395       2526       4328       2480   \n",
      "396       2979       3585       2121   \n",
      "397       2739       4816       2980   \n",
      "398       2345       3406       3668   \n",
      "\n",
      "                                             image_url  \\\n",
      "0    https://images.gr-assets.com/books/1358276407m...   \n",
      "1    https://images.gr-assets.com/books/1503066414m...   \n",
      "2    https://images.gr-assets.com/books/1400930557m...   \n",
      "3    https://images.gr-assets.com/books/1403173986m...   \n",
      "4    https://images.gr-assets.com/books/1473495285m...   \n",
      "..                                                 ...   \n",
      "394  https://images.gr-assets.com/books/1421708177m...   \n",
      "395  https://images.gr-assets.com/books/1405292426m...   \n",
      "396  https://images.gr-assets.com/books/1320449273m...   \n",
      "397  https://s.gr-assets.com/assets/nophoto/book/11...   \n",
      "398  https://s.gr-assets.com/assets/nophoto/book/11...   \n",
      "\n",
      "                                       small_image_url  NonEnglish  \n",
      "0    https://images.gr-assets.com/books/1358276407s...           0  \n",
      "1    https://images.gr-assets.com/books/1503066414s...           0  \n",
      "2    https://images.gr-assets.com/books/1400930557s...           0  \n",
      "3    https://images.gr-assets.com/books/1403173986s...           0  \n",
      "4    https://images.gr-assets.com/books/1473495285s...           0  \n",
      "..                                                 ...         ...  \n",
      "394  https://images.gr-assets.com/books/1421708177s...           0  \n",
      "395  https://images.gr-assets.com/books/1405292426s...           0  \n",
      "396  https://images.gr-assets.com/books/1320449273s...           0  \n",
      "397  https://s.gr-assets.com/assets/nophoto/book/50...           0  \n",
      "398  https://s.gr-assets.com/assets/nophoto/book/50...           0  \n",
      "\n",
      "[399 rows x 24 columns]\n"
     ]
    }
   ],
   "source": [
    "# The data is stored in the variable dataframe\n",
    "dataframe = pd.read_csv('books.csv')\n",
    "print(dataframe)"
   ]
  },
  {
   "cell_type": "markdown",
   "id": "0bf98fcc",
   "metadata": {},
   "source": [
    "### Q1: How many rows and columns are there in books.csv dataset?\n",
    "    ANS:\n",
    "    There are 399 rows in the given dataset.\n",
    "    There are 24 columns in the given dataset."
   ]
  },
  {
   "cell_type": "code",
   "execution_count": 3,
   "id": "57e4f240",
   "metadata": {
    "scrolled": false
   },
   "outputs": [
    {
     "name": "stdout",
     "output_type": "stream",
     "text": [
      "The number of Rows in the given dataset: 399\n",
      "The number of Columns in the given dataset: 24\n"
     ]
    }
   ],
   "source": [
    "#shape returns the number of rows and columns\n",
    "n_rows,n_columns=dataframe.shape\n",
    "print(\"The number of Rows in the given dataset:\",n_rows)\n",
    "print(\"The number of Columns in the given dataset:\",n_columns)"
   ]
  },
  {
   "cell_type": "code",
   "execution_count": 4,
   "id": "29ee5989",
   "metadata": {},
   "outputs": [
    {
     "name": "stdout",
     "output_type": "stream",
     "text": [
      "['book_id', 'goodreads_book_id', 'best_book_id', 'work_id', 'books_count', 'isbn', 'isbn13', 'authors', 'original_publication_year', 'original_title', 'title', 'language_code', 'average_rating', 'ratings_count', 'work_ratings_count', 'work_text_reviews_count', 'ratings_1', 'ratings_2', 'ratings_3', 'ratings_4', 'ratings_5', 'image_url', 'small_image_url', 'NonEnglish']\n"
     ]
    }
   ],
   "source": [
    "columns_names=dataframe.columns.tolist()\n",
    "print(columns_names)"
   ]
  },
  {
   "cell_type": "markdown",
   "id": "0686c901",
   "metadata": {},
   "source": [
    "### Q2: How many books do not have an original title?\n",
    "    Ans:\n",
    "    The number of books that do not have an original title 36\n"
   ]
  },
  {
   "cell_type": "code",
   "execution_count": 5,
   "id": "3cf745fb",
   "metadata": {},
   "outputs": [
    {
     "name": "stdout",
     "output_type": "stream",
     "text": [
      "The number of unique values in original_title column 363\n",
      "The number of books that do not have an original title 36\n"
     ]
    }
   ],
   "source": [
    "# nunique is used to find the count of unique values in that column\n",
    "n_unique_orgtitle=dataframe['original_title'].nunique()\n",
    "print(\"The number of unique values in original_title column\",n_unique_orgtitle)\n",
    "# .isnull().sum() is used to count the number of null values in the column\n",
    "n_null_orgtitle = dataframe['original_title'].isnull().sum()\n",
    "print(\"The number of books that do not have an original title\",n_null_orgtitle)"
   ]
  },
  {
   "cell_type": "markdown",
   "id": "62c97328",
   "metadata": {},
   "source": [
    "### Q3: How many unique books are present in the dataset ? Evaluate based on the 'book_id' after removing null values in the original_title column.\n",
    "    Ans:\n",
    "    The number of unique books present in dataset are : 363 books\n",
    "    "
   ]
  },
  {
   "cell_type": "code",
   "execution_count": 6,
   "id": "ad500aef",
   "metadata": {},
   "outputs": [
    {
     "name": "stdout",
     "output_type": "stream",
     "text": [
      "The number of unique books, based on the book_id column are:  363\n",
      "The number of unique values in book_id column 0\n"
     ]
    }
   ],
   "source": [
    "\n",
    "# dropna() is used to drop the rows that have null values\n",
    "clean_dataframe = dataframe.dropna(subset=['original_title'])\n",
    "n_unique_bookid=clean_dataframe['book_id'].nunique()\n",
    "print(\"The number of unique books, based on the book_id column are: \",n_unique_bookid)\n",
    "n_null_bookid = clean_dataframe['book_id'].isnull().sum()\n",
    "print(\"The number of unique values in book_id column\",n_null_bookid)\n"
   ]
  },
  {
   "cell_type": "markdown",
   "id": "b51163fc",
   "metadata": {},
   "source": [
    "### Q4: What is the average rating of all the books in the dataset based on ‘average_rating’?\n",
    "    Ans:\n",
    "    The average rating of all the books in the dataset is: 3.9837844611528817"
   ]
  },
  {
   "cell_type": "markdown",
   "id": "a3301b7e",
   "metadata": {},
   "source": [
    "We find the average rating of all the books using the mean() function on the 'average_rating' column in the given dataset."
   ]
  },
  {
   "cell_type": "code",
   "execution_count": 7,
   "id": "3bb9976a",
   "metadata": {
    "scrolled": true
   },
   "outputs": [
    {
     "name": "stdout",
     "output_type": "stream",
     "text": [
      "The average rating of all the books in the dataset is: 3.9837844611528817\n",
      "The average rating of all the unique books in the dataset is: 3.987079889807162\n"
     ]
    }
   ],
   "source": [
    "# We use mean() to find the average of the column\n",
    "\n",
    "avg_rating = dataframe['average_rating'].mean()\n",
    "print(\"The average rating of all the books in the dataset is:\",avg_rating)\n",
    "avg_rating = clean_dataframe['average_rating'].mean()\n",
    "print(\"The average rating of all the unique books in the dataset is:\",avg_rating)\n"
   ]
  },
  {
   "cell_type": "markdown",
   "id": "79a329c2",
   "metadata": {},
   "source": [
    "### Q5: Find the number of books published in the year ‘2000’ based on the ‘original_publication_year’.\n",
    "    Ans: \n",
    "    The number of books published in the year 2000: 8\n",
    "\n",
    "    "
   ]
  },
  {
   "cell_type": "code",
   "execution_count": 11,
   "id": "b89b7c0e",
   "metadata": {},
   "outputs": [
    {
     "name": "stdout",
     "output_type": "stream",
     "text": [
      "The number of books published in the year 2000: 8\n",
      "The number of unqiue books published in the year 2000(obtained after removing the rows with Null values): 7\n"
     ]
    }
   ],
   "source": [
    "#We select all the books published in the year 2000\n",
    "book_pub_2000 = dataframe[dataframe['original_publication_year'] == 2000]\n",
    "# We use len() to find the number of books in the variable book_pub_2000\n",
    "n_book_pub_2000=len(book_pub_2000)\n",
    "\n",
    "print(\"The number of books published in the year 2000:\",n_book_pub_2000)\n",
    "c_book_pub_2000 = clean_dataframe[clean_dataframe['original_publication_year'] == 2000]\n",
    "c_n_book_pub_2000=len(c_book_pub_2000)\n",
    "print(\"The number of unqiue books published in the year 2000(obtained after removing the rows with Null values):\",c_n_book_pub_2000)"
   ]
  },
  {
   "cell_type": "markdown",
   "id": "5556623c",
   "metadata": {},
   "source": [
    "### Q6: Which book (title) has the maximum number of ratings based on ‘work_ratings_count’.\n",
    "    Ans:\n",
    "    The book with the maximum number of ratings is: The Diary of a Young Girl\n"
   ]
  },
  {
   "cell_type": "code",
   "execution_count": 9,
   "id": "d4e95faa",
   "metadata": {},
   "outputs": [
    {
     "name": "stdout",
     "output_type": "stream",
     "text": [
      "The book with the maximum number of ratings is: The Diary of a Young Girl\n"
     ]
    }
   ],
   "source": [
    "# idmax() returns the index value of the largest rating\n",
    "max_rating_book_rn = dataframe['work_ratings_count'].idxmax()\n",
    "\n",
    "max_rating_book = dataframe.at[max_rating_book_rn, 'title']\n",
    "\n",
    "print(\"The book with the maximum number of ratings is:\", max_rating_book)\n",
    "\n"
   ]
  },
  {
   "cell_type": "markdown",
   "id": "d25711e5",
   "metadata": {},
   "source": [
    "### Q7: Bucket the average_rating of books into 11 buckets [0, 0.5, 1.0, 1.5, 2.0, 2.5, 3.0, 3.5, 4.0, 4.5, 5.0] with 0.5 decimal rounding (eg: average_rating 3.0 to 3.49 will fall in bucket 3.0). Plot bar graph to show total number of books in each rating bucket."
   ]
  },
  {
   "cell_type": "code",
   "execution_count": 10,
   "id": "55b298ef",
   "metadata": {},
   "outputs": [
    {
     "data": {
      "image/png": "[encoded data removed]",
      "text/plain": [
       "<Figure size 1000x600 with 1 Axes>"
      ]
     },
     "metadata": {},
     "output_type": "display_data"
    }
   ],
   "source": [
    "dataframe\n",
    "bucket = [0, 0.5, 1.0, 1.5, 2.0, 2.5, 3.0, 3.5, 4.0, 4.5, 5.0]\n",
    "# We first perform decimal rounding on average_rating\n",
    "dataframe['bucket'] = pd.cut(dataframe['average_rating'], bucket, labels=bucket[:-1])\n",
    "# We count how many values fall in each bucket\n",
    "n_books_per_bucket = dataframe['bucket'].value_counts()\n",
    "\n",
    "# We plot our findings \n",
    "plt.figure(figsize=(10, 6))\n",
    "plt.xticks(n_books_per_bucket.index, rotation=0, ha=\"center\")\n",
    "plt.bar(\n",
    "    n_books_per_bucket.index, \n",
    "    n_books_per_bucket.values, \n",
    "    tick_label=n_books_per_bucket.index,\n",
    "    width=0.4)\n",
    "plt.tight_layout()\n",
    "plt.xlabel(\"Rating Bucket\")\n",
    "plt.ylabel(\"Number of Books\")\n",
    "plt.title(\"Distribution of Books by Average Rating\")\n",
    "plt.show()"
   ]
  },
  {
   "cell_type": "code",
   "execution_count": null,
   "id": "11edd36c",
   "metadata": {},
   "outputs": [],
   "source": []
  },
  {
   "cell_type": "code",
   "execution_count": null,
   "id": "67e1526d",
   "metadata": {},
   "outputs": [],
   "source": []
  }
 ],
 "metadata": {
  "kernelspec": {
   "display_name": "Python 3 (ipykernel)",
   "language": "python",
   "name": "python3"
  },
  "language_info": {
   "codemirror_mode": {
    "name": "ipython",
    "version": 3
   },
   "file_extension": ".py",
   "mimetype": "text/x-python",
   "name": "python",
   "nbconvert_exporter": "python",
   "pygments_lexer": "ipython3",
   "version": "3.11.4"
  }
 },
 "nbformat": 4,
 "nbformat_minor": 5
}
